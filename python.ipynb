{
  "nbformat": 4,
  "nbformat_minor": 0,
  "metadata": {
    "colab": {
      "provenance": [],
      "authorship_tag": "ABX9TyPX7+Q/XQG5/DHrgYPYLma9",
      "include_colab_link": true
    },
    "kernelspec": {
      "name": "python3",
      "display_name": "Python 3"
    },
    "language_info": {
      "name": "python"
    }
  },
  "cells": [
    {
      "cell_type": "markdown",
      "metadata": {
        "id": "view-in-github",
        "colab_type": "text"
      },
      "source": [
        "<a href=\"https://colab.research.google.com/github/guravharshvardhan/oop/blob/main/python.ipynb\" target=\"_parent\"><img src=\"https://colab.research.google.com/assets/colab-badge.svg\" alt=\"Open In Colab\"/></a>"
      ]
    },
    {
      "cell_type": "code",
      "execution_count": 1,
      "metadata": {
        "colab": {
          "base_uri": "https://localhost:8080/"
        },
        "id": "aYPaE6LXq4o1",
        "outputId": "66f5a95a-a15d-4c1f-eb83-8fd3a752b0d4"
      },
      "outputs": [
        {
          "output_type": "stream",
          "name": "stdout",
          "text": [
            "enter the salary:60000\n",
            "It has high income.\n"
          ]
        }
      ],
      "source": [
        "sal=int(input(\"enter the salary:\"))\n",
        "if sal>50000:\n",
        "  print(\"It has high income.\")\n",
        "elif sal>=30000 and sal<=50000:\n",
        "  print(\"It has medium income.\")\n",
        "elif sal<30000:\n",
        "  print(\"It has low income.\")\n",
        "#else:\n",
        " # print(\"Anything else\")"
      ]
    },
    {
      "cell_type": "code",
      "source": [
        "streetnum=int(input(\"enter the number:\"))\n",
        "if streetnum%2==0:\n",
        "  print(\"streetlight are turned on at night\")\n",
        "else:\n",
        "  print(\"streetlight are turned off at night\")\n"
      ],
      "metadata": {
        "colab": {
          "base_uri": "https://localhost:8080/"
        },
        "id": "dTiwEPshsc5A",
        "outputId": "aadcc1dc-d64d-4a03-dfe8-66710426fccc"
      },
      "execution_count": 2,
      "outputs": [
        {
          "output_type": "stream",
          "name": "stdout",
          "text": [
            "enter the number:5\n",
            "streetlight are turned off at night\n"
          ]
        }
      ]
    },
    {
      "cell_type": "code",
      "source": [
        "print(\"1.Check Balance\\n2.Deposite Money\\n3.Withdrow Money\\n4.Exit the System\")\n",
        "balance=5000\n",
        "print(balance)\n",
        "choice=int(input(\"enter choice:\"))\n",
        "\n",
        "if choice==1:\n",
        "  print(\"Check Balance.\")\n",
        "  print(\"balance is (balance)\")\n",
        "elif choice==2:\n",
        "  print(\"Deposite Money.\")\n",
        "  deposite=int(input(\"enter value you want to deposite:\"))\n",
        "  print(\"balance=\",balance+deposite)\n",
        "elif choice==3:\n",
        "  print(\"Withdrow Money.\")\n",
        "  withdrow=int(input(\"enter value you want to withdrow:\"))\n",
        "  print(\"balance=\",balance-withdrow)\n",
        "elif choice==4:\n",
        "  print(\"Exit the System\")"
      ],
      "metadata": {
        "colab": {
          "base_uri": "https://localhost:8080/"
        },
        "id": "VBFulTsTsnfG",
        "outputId": "aa15996a-4a83-4191-f1b8-fc6c4020b2a3"
      },
      "execution_count": 3,
      "outputs": [
        {
          "output_type": "stream",
          "name": "stdout",
          "text": [
            "1.Check Balance\n",
            "2.Deposite Money\n",
            "3.Withdrow Money\n",
            "4.Exit the System\n",
            "5000\n",
            "enter choice:2\n",
            "Deposite Money.\n",
            "enter value you want to deposite:5000\n",
            "balance= 10000\n"
          ]
        }
      ]
    },
    {
      "cell_type": "code",
      "source": [
        "total=0\n",
        "for i in range (1,6):\n",
        "  count=int(input(\"enter the number of passengers:\"))\n",
        "  total=total+count\n",
        "\n",
        "print(\"total passengers are:\",total)"
      ],
      "metadata": {
        "colab": {
          "base_uri": "https://localhost:8080/"
        },
        "id": "vHckYCzAswCD",
        "outputId": "5b7b97c4-53bc-401c-fde1-dbddf91868bb"
      },
      "execution_count": 4,
      "outputs": [
        {
          "output_type": "stream",
          "name": "stdout",
          "text": [
            "enter the number of passengers:5\n",
            "enter the number of passengers:5\n",
            "enter the number of passengers:6\n",
            "enter the number of passengers:9\n",
            "enter the number of passengers:1\n",
            "total passengers are: 26\n"
          ]
        }
      ]
    },
    {
      "cell_type": "code",
      "source": [
        "for i in range (1,4):\n",
        "  pin=int(input(\"enter your pin number:\"))\n",
        "  if pin==1234:\n",
        "    print(\"you can access the data\")\n",
        "    break\n"
      ],
      "metadata": {
        "colab": {
          "base_uri": "https://localhost:8080/"
        },
        "id": "m_XS01Lcs3fn",
        "outputId": "b75e41e0-7972-4d7f-bc20-fc0199386dd7"
      },
      "execution_count": 5,
      "outputs": [
        {
          "output_type": "stream",
          "name": "stdout",
          "text": [
            "enter your pin number:5641\n",
            "enter your pin number:1234\n",
            "you can access the data\n"
          ]
        }
      ]
    },
    {
      "cell_type": "code",
      "source": [
        "num=input(\"enter the number:\")\n",
        "reverse=(str(num)[::-1])\n",
        "print(\"reversed number is:\",reverse)"
      ],
      "metadata": {
        "colab": {
          "base_uri": "https://localhost:8080/"
        },
        "id": "RiTz88sms9XF",
        "outputId": "b442540e-d0cf-4363-99e5-1f92a8d4ad2e"
      },
      "execution_count": 6,
      "outputs": [
        {
          "output_type": "stream",
          "name": "stdout",
          "text": [
            "enter the number:2564\n",
            "reversed number is: 4652\n"
          ]
        }
      ]
    }
  ]
}