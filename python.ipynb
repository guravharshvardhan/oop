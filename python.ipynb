{
  "nbformat": 4,
  "nbformat_minor": 0,
  "metadata": {
    "colab": {
      "provenance": [],
      "authorship_tag": "ABX9TyNShvx+T8F0G/CRyNnXnb4K",
      "include_colab_link": true
    },
    "kernelspec": {
      "name": "python3",
      "display_name": "Python 3"
    },
    "language_info": {
      "name": "python"
    }
  },
  "cells": [
    {
      "cell_type": "markdown",
      "metadata": {
        "id": "view-in-github",
        "colab_type": "text"
      },
      "source": [
        "<a href=\"https://colab.research.google.com/github/guravharshvardhan/oop/blob/main/python.ipynb\" target=\"_parent\"><img src=\"https://colab.research.google.com/assets/colab-badge.svg\" alt=\"Open In Colab\"/></a>"
      ]
    },
    {
      "cell_type": "code",
      "execution_count": 1,
      "metadata": {
        "colab": {
          "base_uri": "https://localhost:8080/"
        },
        "id": "mDLGLFwtiPGl",
        "outputId": "d67de600-e0d4-4b3b-9165-93d5620107d3"
      },
      "outputs": [
        {
          "output_type": "stream",
          "name": "stdout",
          "text": [
            "normalized scores [0.    0.75  1.    0.25  0.625 0.875]\n"
          ]
        }
      ],
      "source": [
        "import numpy as np\n",
        "scores=np.array([50,80,90,60,75,85])\n",
        "normalized_scores=(scores-np.min(scores))/(np.max(scores)-np.min(scores))\n",
        "print(\"normalized scores\",normalized_scores)"
      ]
    },
    {
      "cell_type": "code",
      "source": [
        "import numpy as np\n",
        "arr=np.array([1,2,2,3,3,4,4,4,4])\n",
        "most_frequent_value=np.bincount(arr).argmax()\n",
        "print(\"most frequent value\",most_frequent_value)"
      ],
      "metadata": {
        "colab": {
          "base_uri": "https://localhost:8080/"
        },
        "id": "GeNDkneOifU1",
        "outputId": "213958b3-44ad-4bf9-b09f-d6634fba78e2"
      },
      "execution_count": 2,
      "outputs": [
        {
          "output_type": "stream",
          "name": "stdout",
          "text": [
            "most frequent value 4\n"
          ]
        }
      ]
    },
    {
      "cell_type": "code",
      "source": [
        "qantities=np.array([10,15,7,20])\n",
        "prices=np.array([50,40,100,30])\n",
        "total_revenue=np.sum(qantities*prices)\n",
        "print(\"total revenue\",total_revenue)"
      ],
      "metadata": {
        "colab": {
          "base_uri": "https://localhost:8080/"
        },
        "id": "FzsTXnlCipdk",
        "outputId": "8b62c336-baa1-4dbb-a11d-b4ac4704db54"
      },
      "execution_count": 3,
      "outputs": [
        {
          "output_type": "stream",
          "name": "stdout",
          "text": [
            "total revenue 2400\n"
          ]
        }
      ]
    },
    {
      "cell_type": "code",
      "source": [
        "marks=np.array([35,60,42,75,29,90,55])\n",
        "passed_marks=marks[marks>=40]\n",
        "print(\"passed marks\",passed_marks)"
      ],
      "metadata": {
        "colab": {
          "base_uri": "https://localhost:8080/"
        },
        "id": "Bdgr40EBisaT",
        "outputId": "f1ef5197-8c2a-404e-82a1-91433157236a"
      },
      "execution_count": 4,
      "outputs": [
        {
          "output_type": "stream",
          "name": "stdout",
          "text": [
            "passed marks [60 42 75 90 55]\n"
          ]
        }
      ]
    },
    {
      "cell_type": "code",
      "source": [
        "import numpy as np\n",
        "sales = np.array([1000, 1200, 1500, 1800, 2000, 2100, 2500, 2700])\n",
        "sales_2d = sales.reshape(4, 2)\n",
        "print(\"Reshaped Sales Data (4x2):\")\n",
        "print(sales_2d)"
      ],
      "metadata": {
        "colab": {
          "base_uri": "https://localhost:8080/"
        },
        "id": "bRa7ALPSiwDM",
        "outputId": "c65903c7-3346-4ea4-c848-47cf632751e7"
      },
      "execution_count": 5,
      "outputs": [
        {
          "output_type": "stream",
          "name": "stdout",
          "text": [
            "Reshaped Sales Data (4x2):\n",
            "[[1000 1200]\n",
            " [1500 1800]\n",
            " [2000 2100]\n",
            " [2500 2700]]\n"
          ]
        }
      ]
    },
    {
      "cell_type": "code",
      "source": [
        "sales=[5000,7000,8000,6500,7200,9000,8500]\n",
        "highest_sales=max(sales)\n",
        "lowest_sales=min(sales)\n",
        "print(\"highest sales:\",highest_sales)\n",
        "print(\"lowest sales:\",lowest_sales)"
      ],
      "metadata": {
        "colab": {
          "base_uri": "https://localhost:8080/"
        },
        "id": "DXEudWPGi0IU",
        "outputId": "7184c2ba-2f65-4621-fbf9-20fdb2e0dcdc"
      },
      "execution_count": 6,
      "outputs": [
        {
          "output_type": "stream",
          "name": "stdout",
          "text": [
            "highest sales: 9000\n",
            "lowest sales: 5000\n"
          ]
        }
      ]
    }
  ]
}